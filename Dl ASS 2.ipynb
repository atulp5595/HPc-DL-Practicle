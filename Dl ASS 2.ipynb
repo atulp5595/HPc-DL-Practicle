{
 "cells": [
  {
   "cell_type": "code",
   "execution_count": 1,
   "metadata": {
    "colab": {
     "base_uri": "https://localhost:8080/",
     "height": 1000
    },
    "id": "6Xs0VCO_jZza",
    "outputId": "ceb49874-c260-4f43-ad6f-d388076223b7"
   },
   "outputs": [
    {
     "name": "stdout",
     "output_type": "stream",
     "text": [
      "Downloading data from https://storage.googleapis.com/tensorflow/tf-keras-datasets/mnist.npz\n",
      "11490434/11490434 [==============================] - 7s 1us/step\n"
     ]
    },
    {
     "data": {
      "image/png": "[encoded data removed]",
      "text/plain": [
       "<Figure size 432x288 with 1 Axes>"
      ]
     },
     "metadata": {
      "needs_background": "light"
     },
     "output_type": "display_data"
    },
    {
     "name": "stdout",
     "output_type": "stream",
     "text": [
      "[[  0   0   0   0   0   0   0   0   0   0   0   0   0   0   0   0   0   0\n",
      "    0   0   0   0   0   0   0   0   0   0]\n",
      " [  0   0   0   0   0   0   0   0   0   0   0   0   0   0   0   0   0   0\n",
      "    0   0   0   0   0   0   0   0   0   0]\n",
      " [  0   0   0   0   0   0   0   0   0   0   0   0   0   0   0   0   0   0\n",
      "    0   0   0   0   0   0   0   0   0   0]\n",
      " [  0   0   0   0   0   0   0   0   0   0   0   0   0   0   0   0   0   0\n",
      "    0   0   0   0   0   0   0   0   0   0]\n",
      " [  0   0   0   0   0   0   0   0   0   0   0   0   0   0   0   0   0   0\n",
      "    0   0   0   0   0   0   0   0   0   0]\n",
      " [  0   0   0   0   0   0   0   0   0   0   0   0   3  18  18  18 126 136\n",
      "  175  26 166 255 247 127   0   0   0   0]\n",
      " [  0   0   0   0   0   0   0   0  30  36  94 154 170 253 253 253 253 253\n",
      "  225 172 253 242 195  64   0   0   0   0]\n",
      " [  0   0   0   0   0   0   0  49 238 253 253 253 253 253 253 253 253 251\n",
      "   93  82  82  56  39   0   0   0   0   0]\n",
      " [  0   0   0   0   0   0   0  18 219 253 253 253 253 253 198 182 247 241\n",
      "    0   0   0   0   0   0   0   0   0   0]\n",
      " [  0   0   0   0   0   0   0   0  80 156 107 253 253 205  11   0  43 154\n",
      "    0   0   0   0   0   0   0   0   0   0]\n",
      " [  0   0   0   0   0   0   0   0   0  14   1 154 253  90   0   0   0   0\n",
      "    0   0   0   0   0   0   0   0   0   0]\n",
      " [  0   0   0   0   0   0   0   0   0   0   0 139 253 190   2   0   0   0\n",
      "    0   0   0   0   0   0   0   0   0   0]\n",
      " [  0   0   0   0   0   0   0   0   0   0   0  11 190 253  70   0   0   0\n",
      "    0   0   0   0   0   0   0   0   0   0]\n",
      " [  0   0   0   0   0   0   0   0   0   0   0   0  35 241 225 160 108   1\n",
      "    0   0   0   0   0   0   0   0   0   0]\n",
      " [  0   0   0   0   0   0   0   0   0   0   0   0   0  81 240 253 253 119\n",
      "   25   0   0   0   0   0   0   0   0   0]\n",
      " [  0   0   0   0   0   0   0   0   0   0   0   0   0   0  45 186 253 253\n",
      "  150  27   0   0   0   0   0   0   0   0]\n",
      " [  0   0   0   0   0   0   0   0   0   0   0   0   0   0   0  16  93 252\n",
      "  253 187   0   0   0   0   0   0   0   0]\n",
      " [  0   0   0   0   0   0   0   0   0   0   0   0   0   0   0   0   0 249\n",
      "  253 249  64   0   0   0   0   0   0   0]\n",
      " [  0   0   0   0   0   0   0   0   0   0   0   0   0   0  46 130 183 253\n",
      "  253 207   2   0   0   0   0   0   0   0]\n",
      " [  0   0   0   0   0   0   0   0   0   0   0   0  39 148 229 253 253 253\n",
      "  250 182   0   0   0   0   0   0   0   0]\n",
      " [  0   0   0   0   0   0   0   0   0   0  24 114 221 253 253 253 253 201\n",
      "   78   0   0   0   0   0   0   0   0   0]\n",
      " [  0   0   0   0   0   0   0   0  23  66 213 253 253 253 253 198  81   2\n",
      "    0   0   0   0   0   0   0   0   0   0]\n",
      " [  0   0   0   0   0   0  18 171 219 253 253 253 253 195  80   9   0   0\n",
      "    0   0   0   0   0   0   0   0   0   0]\n",
      " [  0   0   0   0  55 172 226 253 253 253 253 244 133  11   0   0   0   0\n",
      "    0   0   0   0   0   0   0   0   0   0]\n",
      " [  0   0   0   0 136 253 253 253 212 135 132  16   0   0   0   0   0   0\n",
      "    0   0   0   0   0   0   0   0   0   0]\n",
      " [  0   0   0   0   0   0   0   0   0   0   0   0   0   0   0   0   0   0\n",
      "    0   0   0   0   0   0   0   0   0   0]\n",
      " [  0   0   0   0   0   0   0   0   0   0   0   0   0   0   0   0   0   0\n",
      "    0   0   0   0   0   0   0   0   0   0]\n",
      " [  0   0   0   0   0   0   0   0   0   0   0   0   0   0   0   0   0   0\n",
      "    0   0   0   0   0   0   0   0   0   0]]\n"
     ]
    }
   ],
   "source": [
    "import numpy as np\n",
    "from tensorflow.keras.models import Sequential\n",
    "from tensorflow.keras.layers import Dense, Dropout\n",
    "from tensorflow.keras.optimizers import RMSprop\n",
    "from tensorflow.keras.datasets import mnist\n",
    "import matplotlib.pyplot as plt\n",
    "from sklearn import metrics\n",
    "# Load the OCR dataset\n",
    "(x_train, y_train), (x_test, y_test) = mnist.load_data()\n",
    "plt.imshow(x_train[0], cmap='gray')  # imshow() function which simply displays an image.\n",
    "plt.show() \n",
    "print(x_train[0])"
   ]
  },
  {
   "cell_type": "code",
   "execution_count": 13,
   "metadata": {
    "colab": {
     "base_uri": "https://localhost:8080/"
    },
    "id": "ge9eMWxzot0z",
    "outputId": "3a404f05-c196-44ab-b3c4-01e189d38af9"
   },
   "outputs": [
    {
     "name": "stdout",
     "output_type": "stream",
     "text": [
      "X_train shape (60000, 28, 28)\n",
      "y_train shape (60000,)\n",
      "X_test shape (10000, 28, 28)\n",
      "y_test shape (10000,)\n"
     ]
    }
   ],
   "source": [
    "print(\"X_train shape\", x_train.shape)\n",
    "print(\"y_train shape\", y_train.shape)\n",
    "print(\"X_test shape\", x_test.shape)\n",
    "print(\"y_test shape\", y_test.shape)"
   ]
  },
  {
   "cell_type": "code",
   "execution_count": 14,
   "metadata": {
    "id": "ZjruSc-Gq0vV"
   },
   "outputs": [],
   "source": [
    "x_train = x_train.reshape(60000, 784)\n",
    "x_test = x_test.reshape(10000, 784)\n",
    "x_train = x_train.astype('float32') # use 32-bit precision when training a neural network, so at one point the training data will have to be converted to 32 bit floats. Since the dataset fits easily in RAM, we might as well convert to float immediately.\n",
    "x_test = x_test.astype('float32')\n",
    "x_train /= 255  # Each image has Intensity from 0 to 255\n",
    "x_test /= 255"
   ]
  },
  {
   "cell_type": "code",
   "execution_count": 15,
   "metadata": {
    "id": "EeP1nbNsrf7M"
   },
   "outputs": [],
   "source": [
    "# Convert class vectors to binary class matrices\n",
    "num_classes = 10\n",
    "y_train = np.eye(num_classes)[y_train]  # Return a 2-D array with ones on the diagonal and zeros elsewhere.\n",
    "y_test = np.eye(num_classes)[y_test] # f your particular categories is present then it mark as 1 else 0 in remain row"
   ]
  },
  {
   "cell_type": "code",
   "execution_count": 16,
   "metadata": {
    "id": "nPPFDxE5u_sm"
   },
   "outputs": [],
   "source": [
    "# Define the model architecture\n",
    "model = Sequential()\n",
    "model.add(Dense(512, activation='relu', input_shape=(784,)))  # The input_shape argument is passed to the foremost layer. It comprises of a tuple shape,\n",
    "model.add(Dropout(0.2)) # DROP OUT RATIO 20%\n",
    "model.add(Dense(512, activation='relu')) #returns a sequence of vectors of dimension 512  \n",
    "model.add(Dropout(0.2))\n",
    "model.add(Dense(num_classes, activation='softmax'))"
   ]
  },
  {
   "cell_type": "code",
   "execution_count": 17,
   "metadata": {
    "id": "fD5FPvIzwZlm"
   },
   "outputs": [],
   "source": [
    "# Compile the model\n",
    "model.compile(loss='categorical_crossentropy',  # for a multi-class classification problem  \n",
    "              optimizer=RMSprop(),\n",
    "              metrics=['accuracy'])"
   ]
  },
  {
   "cell_type": "code",
   "execution_count": 18,
   "metadata": {
    "colab": {
     "base_uri": "https://localhost:8080/"
    },
    "id": "Swa7DnVSxHFD",
    "outputId": "f445ddb8-11e8-4dbc-d11d-1f9c1904a0d8"
   },
   "outputs": [
    {
     "name": "stdout",
     "output_type": "stream",
     "text": [
      "Epoch 1/20\n",
      "469/469 [==============================] - 12s 24ms/step - loss: 0.2539 - accuracy: 0.9216 - val_loss: 0.1443 - val_accuracy: 0.9547\n",
      "Epoch 2/20\n",
      "469/469 [==============================] - 9s 20ms/step - loss: 0.1039 - accuracy: 0.9665 - val_loss: 0.0730 - val_accuracy: 0.9789\n",
      "Epoch 3/20\n",
      "469/469 [==============================] - 10s 22ms/step - loss: 0.0742 - accuracy: 0.9767 - val_loss: 0.0693 - val_accuracy: 0.9795\n",
      "Epoch 4/20\n",
      "469/469 [==============================] - 11s 22ms/step - loss: 0.0565 - accuracy: 0.9827 - val_loss: 0.0669 - val_accuracy: 0.9811\n",
      "Epoch 5/20\n",
      "469/469 [==============================] - 10s 22ms/step - loss: 0.0480 - accuracy: 0.9850 - val_loss: 0.0747 - val_accuracy: 0.9790\n",
      "Epoch 6/20\n",
      "469/469 [==============================] - 10s 22ms/step - loss: 0.0396 - accuracy: 0.9872 - val_loss: 0.0699 - val_accuracy: 0.9817\n",
      "Epoch 7/20\n",
      "469/469 [==============================] - 10s 20ms/step - loss: 0.0342 - accuracy: 0.9889 - val_loss: 0.0687 - val_accuracy: 0.9833\n",
      "Epoch 8/20\n",
      "469/469 [==============================] - 11s 22ms/step - loss: 0.0294 - accuracy: 0.9903 - val_loss: 0.0661 - val_accuracy: 0.9836\n",
      "Epoch 9/20\n",
      "469/469 [==============================] - 10s 22ms/step - loss: 0.0255 - accuracy: 0.9923 - val_loss: 0.0745 - val_accuracy: 0.9822\n",
      "Epoch 10/20\n",
      "469/469 [==============================] - 10s 22ms/step - loss: 0.0220 - accuracy: 0.9930 - val_loss: 0.0734 - val_accuracy: 0.9836\n",
      "Epoch 11/20\n",
      "469/469 [==============================] - 9s 19ms/step - loss: 0.0202 - accuracy: 0.9934 - val_loss: 0.0679 - val_accuracy: 0.9843\n",
      "Epoch 12/20\n",
      "469/469 [==============================] - 10s 22ms/step - loss: 0.0179 - accuracy: 0.9944 - val_loss: 0.0721 - val_accuracy: 0.9851\n",
      "Epoch 13/20\n",
      "469/469 [==============================] - 10s 22ms/step - loss: 0.0170 - accuracy: 0.9946 - val_loss: 0.0684 - val_accuracy: 0.9858\n",
      "Epoch 14/20\n",
      "469/469 [==============================] - 11s 23ms/step - loss: 0.0147 - accuracy: 0.9949 - val_loss: 0.0841 - val_accuracy: 0.9822\n",
      "Epoch 15/20\n",
      "469/469 [==============================] - 10s 22ms/step - loss: 0.0138 - accuracy: 0.9956 - val_loss: 0.0802 - val_accuracy: 0.9835\n",
      "Epoch 16/20\n",
      "469/469 [==============================] - 10s 21ms/step - loss: 0.0139 - accuracy: 0.9956 - val_loss: 0.0712 - val_accuracy: 0.9849\n",
      "Epoch 17/20\n",
      "469/469 [==============================] - 10s 22ms/step - loss: 0.0124 - accuracy: 0.9959 - val_loss: 0.0695 - val_accuracy: 0.9856\n",
      "Epoch 18/20\n",
      "469/469 [==============================] - 10s 22ms/step - loss: 0.0120 - accuracy: 0.9960 - val_loss: 0.0772 - val_accuracy: 0.9860\n",
      "Epoch 19/20\n",
      "469/469 [==============================] - 11s 23ms/step - loss: 0.0094 - accuracy: 0.9968 - val_loss: 0.0829 - val_accuracy: 0.9851\n",
      "Epoch 20/20\n",
      "469/469 [==============================] - 9s 20ms/step - loss: 0.0095 - accuracy: 0.9969 - val_loss: 0.0791 - val_accuracy: 0.9843\n"
     ]
    }
   ],
   "source": [
    "# Train the model\n",
    "batch_size = 128 # batch_size argument is passed to the layer to define a batch size for the inputs.\n",
    "epochs = 20\n",
    "history = model.fit(x_train, y_train,\n",
    "                    batch_size=batch_size,\n",
    "                    epochs=epochs,\n",
    "                    verbose=1, # verbose=1 will show you an animated progress bar eg. [==========]\n",
    "                    validation_data=(x_test, y_test)) # Using validation_data means you are providing the training set and validation set yourself, \n",
    "                                                      # validation_split means you only provide a training set and keras splits it into a training set and a validation set"
   ]
  },
  {
   "cell_type": "code",
   "execution_count": 19,
   "metadata": {
    "colab": {
     "base_uri": "https://localhost:8080/"
    },
    "id": "yLG2AE8tyP1m",
    "outputId": "5acd0599-9465-4c04-ba28-3de7fc758bc9"
   },
   "outputs": [
    {
     "name": "stdout",
     "output_type": "stream",
     "text": [
      "Test loss: 0.07907029986381531\n",
      "Test accuracy: 0.9843000173568726\n"
     ]
    }
   ],
   "source": [
    "# Evaluate the model\n",
    "score = model.evaluate(x_test, y_test, verbose=0)\n",
    "print('Test loss:', score[0])\n",
    "print('Test accuracy:', score[1])"
   ]
  }
 ],
 "metadata": {
  "colab": {
   "provenance": []
  },
  "kernelspec": {
   "display_name": "Python 3 (ipykernel)",
   "language": "python",
   "name": "python3"
  },
  "language_info": {
   "codemirror_mode": {
    "name": "ipython",
    "version": 3
   },
   "file_extension": ".py",
   "mimetype": "text/x-python",
   "name": "python",
   "nbconvert_exporter": "python",
   "pygments_lexer": "ipython3",
   "version": "3.9.0"
  }
 },
 "nbformat": 4,
 "nbformat_minor": 1
}
